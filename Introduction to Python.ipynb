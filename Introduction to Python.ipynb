{
 "cells": [
  {
   "cell_type": "markdown",
   "metadata": {},
   "source": [
    "# Getting started"
   ]
  },
  {
   "cell_type": "markdown",
   "metadata": {},
   "source": [
    "When we write *#* anything after will not be read by Python. That is called a comment and it is useful for writing notes and indications in the code for developers.\n",
    "\n",
    "The function *print* will show on the screen whatever we ask for. It can be a string, a float or an integer."
   ]
  },
  {
   "cell_type": "code",
   "execution_count": 180,
   "metadata": {},
   "outputs": [
    {
     "name": "stdout",
     "output_type": "stream",
     "text": [
      "Hello world!\n"
     ]
    }
   ],
   "source": [
    "#This is a comment\n",
    "print(\"Hello world!\")"
   ]
  },
  {
   "cell_type": "markdown",
   "metadata": {},
   "source": [
    "# Variables"
   ]
  },
  {
   "cell_type": "markdown",
   "metadata": {},
   "source": [
    "Variables contain data values\n",
    "\n",
    "A variable is automatically declared when we assign a value to it\n",
    "\n",
    "Variable name cannot start with a number \n",
    "\n",
    "Variable names are case sensitive\n",
    "\n",
    "Five kinds of variables: booleans, strings, integers, float and complex"
   ]
  },
  {
   "cell_type": "code",
   "execution_count": 72,
   "metadata": {},
   "outputs": [
    {
     "name": "stdout",
     "output_type": "stream",
     "text": [
      "2.24 (1+8j)\n"
     ]
    }
   ],
   "source": [
    "a = False            #Boolean. Can be True or False\n",
    "b = 'John'           #String. Strings can be declared with single or double quotes\n",
    "c = 5                #Integer\n",
    "variable = 2.24      #Float\n",
    "variable_too = 1+8j  #Complex. j is the imaginary unit\n",
    "\n",
    "\n",
    "print(variable,variable_too)"
   ]
  },
  {
   "cell_type": "code",
   "execution_count": 44,
   "metadata": {},
   "outputs": [
    {
     "name": "stdout",
     "output_type": "stream",
     "text": [
      "1 2\n"
     ]
    }
   ],
   "source": [
    "#Python is case sensitive\n",
    "x = 1\n",
    "X = 2\n",
    "print(x, X)"
   ]
  },
  {
   "cell_type": "markdown",
   "metadata": {},
   "source": [
    "If Python was not case sensitive the result of the las cell would be 1 1"
   ]
  },
  {
   "cell_type": "code",
   "execution_count": 39,
   "metadata": {},
   "outputs": [
    {
     "name": "stdout",
     "output_type": "stream",
     "text": [
      "<class 'int'>\n"
     ]
    }
   ],
   "source": [
    "#Function type returns the class of the variable we inputed to it\n",
    "print(type(x))"
   ]
  },
  {
   "cell_type": "code",
   "execution_count": 45,
   "metadata": {},
   "outputs": [
    {
     "name": "stdout",
     "output_type": "stream",
     "text": [
      "1 2.3 John\n"
     ]
    }
   ],
   "source": [
    "#Simultaneous multiple variable assignation\n",
    "x,y,z = 1, 2.3, 'John'\n",
    "print(x,y,z)"
   ]
  },
  {
   "cell_type": "code",
   "execution_count": 77,
   "metadata": {},
   "outputs": [
    {
     "name": "stdout",
     "output_type": "stream",
     "text": [
      "<class 'float'> 2.0\n",
      "<class 'int'> 5\n",
      "<class 'str'> (2+3j)\n"
     ]
    }
   ],
   "source": [
    "#Type conversion\n",
    "\n",
    "a = float(2)   #integer to float\n",
    "b = int(5.67)  #float to integer\n",
    "c = str(2+3j)  #complex to string\n",
    "\n",
    "print(type(a),a)\n",
    "print(type(b),b)\n",
    "print(type(c),c)"
   ]
  },
  {
   "cell_type": "markdown",
   "metadata": {
    "heading_collapsed": true
   },
   "source": [
    "## Basic operations "
   ]
  },
  {
   "cell_type": "markdown",
   "metadata": {
    "hidden": true
   },
   "source": [
    "addition       +\n",
    "\n",
    "subtraction   -\n",
    "\n",
    "multiplication *\n",
    "\n",
    "division       /\n",
    "\n",
    "exponent       **\n",
    "\n",
    "floor division //\n"
   ]
  },
  {
   "cell_type": "markdown",
   "metadata": {
    "hidden": true
   },
   "source": [
    "integer * float = float\n",
    "\n",
    "integer / integer = integer or float\n",
    "\n",
    "integer // integer = integer\n"
   ]
  },
  {
   "cell_type": "code",
   "execution_count": 70,
   "metadata": {
    "hidden": true
   },
   "outputs": [
    {
     "name": "stdout",
     "output_type": "stream",
     "text": [
      "a * c = 5.0\n",
      "a / b = 0.6666666666666666\n",
      "a // b = 0\n"
     ]
    }
   ],
   "source": [
    "a=2\n",
    "b=3\n",
    "c=2.5\n",
    "\n",
    "#integer * float = float\n",
    "print('a * c =',a*c)\n",
    "\n",
    "#integer / integer = integer or float\n",
    "print('a / b =',a/b)\n",
    "\n",
    "#integer // integer = integer\n",
    "print('a // b =',a//b)\n"
   ]
  },
  {
   "cell_type": "code",
   "execution_count": 86,
   "metadata": {
    "hidden": true
   },
   "outputs": [
    {
     "name": "stdout",
     "output_type": "stream",
     "text": [
      "Physics is fun.\n",
      "fun.fun.\n"
     ]
    }
   ],
   "source": [
    "#Operations with strings\n",
    "\n",
    "a='Physics is '\n",
    "b='fun.'\n",
    "c='awesome.'\n",
    "\n",
    "print(a+b)  #Addition\n",
    "print(2*b)  #Multiplication"
   ]
  },
  {
   "cell_type": "markdown",
   "metadata": {
    "heading_collapsed": true
   },
   "source": [
    "# Lists"
   ]
  },
  {
   "cell_type": "markdown",
   "metadata": {
    "hidden": true
   },
   "source": [
    "Lists can store multiple items in a single variable. Items are ordered and indexed. The first item index is 0. We can access a list item by specifying its index after the list name. Indexes can be positive or negative. Lists can be changed."
   ]
  },
  {
   "cell_type": "code",
   "execution_count": 107,
   "metadata": {
    "hidden": true
   },
   "outputs": [
    {
     "name": "stdout",
     "output_type": "stream",
     "text": [
      "dog\n",
      "5.6\n",
      "5\n",
      "['dog', 3, 5.6]\n"
     ]
    }
   ],
   "source": [
    "newlist = ['cat', 'dog', 3, 5.6, True] #Lists are created with square brackets\n",
    "  \n",
    "print(newlist[1])    #prints the second item of the list\n",
    "print(newlist[-2])   #prints the second item of the list starting from the last item\n",
    "print(len(newlist))  #len() gives us the length of the list\n",
    "print(newlist[1:4])  #prints items from the index 1 to the 4 (not included)"
   ]
  },
  {
   "cell_type": "code",
   "execution_count": 108,
   "metadata": {
    "hidden": true
   },
   "outputs": [
    {
     "name": "stdout",
     "output_type": "stream",
     "text": [
      "['cat', 'wolf', 3, 5.6, True]\n",
      "['cat', 'wolf', 3, 5.6, True, 'chicken']\n",
      "['cat', 'tiger', 'wolf', 3, 5.6, True, 'chicken']\n",
      "['cat', 'tiger', 'wolf', 5.6, True, 'chicken']\n"
     ]
    }
   ],
   "source": [
    "newlist[1] = 'wolf'        #Changing an element of the list\n",
    "print(newlist)\n",
    "\n",
    "newlist.append('chicken')  #Adding an element at the end of the list\n",
    "print(newlist)\n",
    "\n",
    "newlist.insert(1, 'tiger') #Adding an element in the second position of the list\n",
    "print(newlist)\n",
    "\n",
    "newlist.pop(3)             #Deleting the index 3 element\n",
    "print(newlist)"
   ]
  },
  {
   "cell_type": "code",
   "execution_count": 111,
   "metadata": {
    "hidden": true
   },
   "outputs": [
    {
     "name": "stdout",
     "output_type": "stream",
     "text": [
      "['cat', 'tiger', 'wolf', 5.6, True, 'chicken', 'apple', 'orange']\n",
      "['apple', 'orange', 'apple', 'orange']\n"
     ]
    }
   ],
   "source": [
    "#Some operations on lists\n",
    "\n",
    "another_list = ['apple', 'orange']\n",
    "\n",
    "print(newlist+another_list)\n",
    "print(2*another_list)\n"
   ]
  },
  {
   "cell_type": "markdown",
   "metadata": {
    "hidden": true
   },
   "source": [
    "There are other 3 list-like variables that stores collections of data.\n",
    "\n",
    "\n",
    "Tuples: The main difference is that tuples are unchangeable. We cannot change, add or remove items after the tuple has been created. Tuples are created with round brackets ().\n",
    "\n",
    "Sets: Are unindexed and unordered, meaning that we cannot refer to an element by indexing it. They do not allow duplicate values. Sets are created with curly brackets {}.\n",
    "\n",
    "Dictionaries: Its items are ordered and changeable, but does not allow duplicates. Items are presented in key:value pairs. Dictionaries are created with curly brackets{} and key:value items."
   ]
  },
  {
   "cell_type": "code",
   "execution_count": 131,
   "metadata": {
    "hidden": true
   },
   "outputs": [],
   "source": [
    "alist      = ['black', 'orange', 2021]\n",
    "atuple     = ('black', 'orange', 2021)\n",
    "aset       = {'black', 'orange', 2021, 'orange'}\n",
    "adictionary= {'color':'black', 'fruit':'orange','year':2021}"
   ]
  },
  {
   "cell_type": "code",
   "execution_count": 135,
   "metadata": {
    "hidden": true
   },
   "outputs": [
    {
     "name": "stdout",
     "output_type": "stream",
     "text": [
      "{2021, 'black', 'orange'}\n",
      "2021\n"
     ]
    }
   ],
   "source": [
    "print(aset)                  #No duplicate values for sets\n",
    "print(adictionary['year'])   #Dictionaries indexed by the key"
   ]
  },
  {
   "cell_type": "markdown",
   "metadata": {
    "heading_collapsed": true
   },
   "source": [
    "# If"
   ]
  },
  {
   "cell_type": "markdown",
   "metadata": {
    "hidden": true
   },
   "source": [
    "An if statement is a command for handling decisions. The program will execute certain instructions when a condition is met.\n",
    "\n",
    "Conditional expressions:\n",
    "\n",
    "a == b  Equals\n",
    "\n",
    "a != b  Not equals\n",
    "\n",
    "a < b   Less than\n",
    " \n",
    "a <= b  Less than or equal to\n",
    "\n",
    "a > b   Greater than\n",
    "\n",
    "a >= b  Greater than or equal to\n",
    "\n",
    "\n",
    "\n",
    "Python uses identation to indicate a block of code. I"
   ]
  },
  {
   "cell_type": "code",
   "execution_count": 136,
   "metadata": {
    "hidden": true
   },
   "outputs": [
    {
     "name": "stdout",
     "output_type": "stream",
     "text": [
      "a is not equal to b\n",
      "a is less than b\n",
      "a is less than or equal to b\n"
     ]
    }
   ],
   "source": [
    "a = 3\n",
    "b = 7\n",
    "\n",
    "if a == b:\n",
    "    print('a is equal to b')\n",
    "    \n",
    "if a != b:\n",
    "    print('a is not equal to b')\n",
    "    \n",
    "if a < b:\n",
    "    print('a is less than b')\n",
    "    \n",
    "if a <= b:\n",
    "    print('a is less than or equal to b')\n",
    "    \n",
    "if a > b:\n",
    "    print('a is greater than b')\n",
    "    \n",
    "if a >= b:\n",
    "    print('a is greater than or equal to b')"
   ]
  },
  {
   "cell_type": "markdown",
   "metadata": {
    "hidden": true
   },
   "source": [
    "You may want to execute different instructions when the if condition is not met, for that we have the elif function. And if none of the previous conditions are met we can still execute specific instructions for that case, then we use else function."
   ]
  },
  {
   "cell_type": "code",
   "execution_count": 140,
   "metadata": {
    "hidden": true
   },
   "outputs": [
    {
     "name": "stdout",
     "output_type": "stream",
     "text": [
      "a is less than b\n"
     ]
    }
   ],
   "source": [
    "if a > b:\n",
    "    print('a is greater than b')\n",
    "\n",
    "elif a < b:\n",
    "    print('a is less than b')\n",
    "    \n",
    "else:\n",
    "    print('a is equal to b')"
   ]
  },
  {
   "cell_type": "markdown",
   "metadata": {
    "hidden": true
   },
   "source": [
    "Conditions can be combined using the words 'and', 'or'. If statements can be nested"
   ]
  },
  {
   "cell_type": "code",
   "execution_count": 156,
   "metadata": {
    "hidden": true
   },
   "outputs": [
    {
     "name": "stdout",
     "output_type": "stream",
     "text": [
      "c is equal to a\n"
     ]
    }
   ],
   "source": [
    "#Where is c with respect to a and b?\n",
    "\n",
    "a=7\n",
    "b=3\n",
    "c=7\n",
    "    \n",
    "if c != a and c != b: \n",
    "    if b>a:\n",
    "        \n",
    "        if b>c and c>a :\n",
    "            print('c is between a and b')\n",
    "        \n",
    "        elif c>b or c<a :\n",
    "            print('c is NOT between a and b')\n",
    "        \n",
    "        \n",
    "        \n",
    "    elif b<a:\n",
    "    \n",
    "        if b<c and c<a :\n",
    "            print('c is between a and b')\n",
    "        \n",
    "        elif c<b or c>a :\n",
    "            print('c is NOT between a and b')\n",
    "        \n",
    "    else:\n",
    "        print('c is Not between a and b')\n",
    "        \n",
    "elif c==a:\n",
    "    print('c is equal to a')\n",
    "    \n",
    "else:\n",
    "    print('c is equal to b')\n",
    "    "
   ]
  },
  {
   "cell_type": "markdown",
   "metadata": {
    "heading_collapsed": true
   },
   "source": [
    "# While and For"
   ]
  },
  {
   "cell_type": "markdown",
   "metadata": {
    "hidden": true
   },
   "source": [
    "With the *while* statement, we can execute a set of statements as long as a condition is true.\n",
    "\n",
    "Useful operators:\n",
    "\n",
    "a += b equivalent to a=a+b\n",
    "\n",
    "a -= b equivalent to a=a-b\n",
    "\n",
    "a \\*= b equivalent to a=a\\*b\n",
    "\n",
    "a /= b equivalent to a=a/b\n",
    "\n",
    "We can break the loop by using the *break* statement. *Else* statements can be used as in *if*."
   ]
  },
  {
   "cell_type": "code",
   "execution_count": 165,
   "metadata": {
    "hidden": true
   },
   "outputs": [
    {
     "name": "stdout",
     "output_type": "stream",
     "text": [
      "0\n",
      "1\n",
      "2\n",
      "3\n"
     ]
    }
   ],
   "source": [
    "i=0\n",
    "breaknumber = 3\n",
    "\n",
    "while i < 8:\n",
    "    print(i)\n",
    "    \n",
    "    if i == breaknumber:\n",
    "        break\n",
    "    \n",
    "    else:\n",
    "        i += 1\n",
    "\n",
    "else:\n",
    "    print('i is not smaller than 8. i = ',i)"
   ]
  },
  {
   "cell_type": "markdown",
   "metadata": {
    "hidden": true
   },
   "source": [
    "The *for* loops are quite similar to *while* the only difference is that *for* iterates over a sequence that can be a list, a tuple, a set or a dictionary. We introduce here the *range* function which creates a list that goes from the number 'a' to the number 'b' with a specific step size. *range(a,b,step)*"
   ]
  },
  {
   "cell_type": "code",
   "execution_count": 166,
   "metadata": {
    "hidden": true
   },
   "outputs": [
    {
     "name": "stdout",
     "output_type": "stream",
     "text": [
      "0\n",
      "1\n",
      "2\n",
      "3\n"
     ]
    }
   ],
   "source": [
    "breaknumber = 3\n",
    "\n",
    "for i in range(0,8,1):\n",
    "    print(i)\n",
    "    \n",
    "    if i == breaknumber:\n",
    "        break\n",
    "    \n",
    "else:\n",
    "    print('i is not smaller than 8. i = ',i)"
   ]
  },
  {
   "cell_type": "markdown",
   "metadata": {
    "heading_collapsed": true
   },
   "source": [
    "# Functions"
   ]
  },
  {
   "cell_type": "markdown",
   "metadata": {
    "hidden": true
   },
   "source": [
    "We can create our own functions which are blocks of code which only runs when are called. To create a function, we have to use *def*. If it is desired functions can return a value. Mind that variables defined inside a function are only defined there and not globally."
   ]
  },
  {
   "cell_type": "code",
   "execution_count": 18,
   "metadata": {
    "hidden": true
   },
   "outputs": [],
   "source": [
    "def where(a,b,c):\n",
    "    \n",
    "    if c != a and c != b: \n",
    "        if b>a:\n",
    "            \n",
    "            if b>c and c>a :\n",
    "                print('c is between a and b')\n",
    "            \n",
    "            elif c>b or c<a :\n",
    "                print('c is NOT between a and b')\n",
    "            \n",
    "            \n",
    "            \n",
    "        elif b<a:\n",
    "    \n",
    "            if b<c and c<a :\n",
    "                print('c is between a and b')\n",
    "        \n",
    "            elif c<b or c>a :\n",
    "                print('c is NOT between a and b')\n",
    "        \n",
    "        else:\n",
    "            print('c is Not between a and b')\n",
    "        \n",
    "    elif c==a:\n",
    "        print('c is equal to a')\n",
    "    \n",
    "    else:\n",
    "        print('c is equal to b')\n",
    "    \n",
    "\n",
    "    \n",
    "def stright_line(xi,xf,yi,slope,step):\n",
    "    y=[yi]\n",
    "    x=[xi]\n",
    "    i=xi + step\n",
    "    \n",
    "    while i < xf:\n",
    "        x.append(i)\n",
    "        y.append(yi+(i-xi)*slope)\n",
    "        \n",
    "        i += step\n",
    "    \n",
    "    return x,y"
   ]
  },
  {
   "cell_type": "code",
   "execution_count": 178,
   "metadata": {
    "hidden": true
   },
   "outputs": [
    {
     "name": "stdout",
     "output_type": "stream",
     "text": [
      "[0, 1, 2, 3, 4, 5, 6, 7, 8, 9] [0, 1, 2, 3, 4, 5, 6, 7, 8, 9]\n"
     ]
    }
   ],
   "source": [
    "xi=20   #Global variables does not affect function variables.\n",
    "a,b=stright_line(0,10,0,1,1)\n",
    "print(a,b)"
   ]
  },
  {
   "cell_type": "code",
   "execution_count": 177,
   "metadata": {
    "hidden": true
   },
   "outputs": [
    {
     "name": "stdout",
     "output_type": "stream",
     "text": [
      "5\n"
     ]
    }
   ],
   "source": [
    "x=lambda a,b: 2+a+b\n",
    "\n",
    "print(x(1,2))\n"
   ]
  },
  {
   "cell_type": "markdown",
   "metadata": {
    "heading_collapsed": true
   },
   "source": [
    "# Modules"
   ]
  },
  {
   "cell_type": "markdown",
   "metadata": {
    "hidden": true
   },
   "source": [
    "A module is a code library. We can use already existing modules or we can create our owns. To create a module we have to write the desired code in a file and save it  with the '.py' extension in the same folder where the running notebook is. To use a module we have to write *import*. In order to call a function defined in a module we will have to write the module name before folowed by a dot and the function, for example *module.function(arg)*. We can change the name we are going to call by the modules using *as* when importing a module."
   ]
  },
  {
   "cell_type": "code",
   "execution_count": 4,
   "metadata": {
    "hidden": true
   },
   "outputs": [
    {
     "name": "stdout",
     "output_type": "stream",
     "text": [
      "Hello Ted. How are you?\n",
      "103\n"
     ]
    }
   ],
   "source": [
    "import testmodule as tm\n",
    "\n",
    "tm.hello('Ted')\n",
    "\n",
    "a=tm.testfunction(1,2)\n",
    "print(a)"
   ]
  },
  {
   "cell_type": "markdown",
   "metadata": {
    "heading_collapsed": true,
    "hidden": true
   },
   "source": [
    "## Matplotlib"
   ]
  },
  {
   "cell_type": "markdown",
   "metadata": {
    "hidden": true
   },
   "source": [
    "Module for ploting data. Anaconda comes with Matplotlib pre-installed."
   ]
  },
  {
   "cell_type": "code",
   "execution_count": null,
   "metadata": {
    "hidden": true
   },
   "outputs": [],
   "source": [
    "import matplotlib.pyplot as plt"
   ]
  },
  {
   "cell_type": "code",
   "execution_count": 29,
   "metadata": {
    "hidden": true
   },
   "outputs": [
    {
     "data": {
      "image/png": "[encoded data removed]",
      "text/plain": [
       "<Figure size 432x288 with 1 Axes>"
      ]
     },
     "metadata": {
      "needs_background": "light"
     },
     "output_type": "display_data"
    },
    {
     "data": {
      "image/png": "[encoded data removed]",
      "text/plain": [
       "<Figure size 432x288 with 1 Axes>"
      ]
     },
     "metadata": {
      "needs_background": "light"
     },
     "output_type": "display_data"
    }
   ],
   "source": [
    "x1,y1 = stright_line(-10,10,-3,2,1)\n",
    "x2,y2 = stright_line(-10,10,2,-1,1)\n",
    "\n",
    "plt.plot(x1,y1)\n",
    "plt.plot(x2,y2)\n",
    "plt.xlabel('x')\n",
    "plt.ylabel('y')\n",
    "plt.title('Test Plot #1')\n",
    "plt.show()\n",
    "\n",
    "plt.plot(x1,y1, marker='o')\n",
    "plt.plot(x2,y2,'o')\n",
    "plt.xlabel('x')\n",
    "plt.ylabel('y')\n",
    "plt.title('Test Plot #2')\n",
    "plt.show()"
   ]
  },
  {
   "cell_type": "markdown",
   "metadata": {
    "heading_collapsed": true,
    "hidden": true
   },
   "source": [
    "## NumPy"
   ]
  },
  {
   "cell_type": "markdown",
   "metadata": {
    "hidden": true
   },
   "source": [
    "If you have installed Anaconda then Numpy is automatically installed. Google Colab has it installed also. However, if you are using another kind of Python package manager, you may have to install it. \n",
    " \n",
    "NumPy is a Python library used for working with arrays. It also has functions for working in domain of linear algebra, fourier transforms, and matrices. \n",
    "NumPy arrays and lists work similarly, but the firsts are faster. NumPy array elements are indexed and the first element has the index 0."
   ]
  },
  {
   "cell_type": "code",
   "execution_count": 30,
   "metadata": {
    "hidden": true
   },
   "outputs": [],
   "source": [
    "import numpy as np"
   ]
  },
  {
   "cell_type": "code",
   "execution_count": 55,
   "metadata": {
    "hidden": true
   },
   "outputs": [
    {
     "name": "stdout",
     "output_type": "stream",
     "text": [
      "0 1 2 3\n"
     ]
    }
   ],
   "source": [
    "arr0= np.array(1)             #0D array\n",
    "arr1= np.array([0,1,2,3])     #1D array\n",
    "arr2= np.array([ [0,1,2,3] , [4,5,6,7] ])     #2D array\n",
    "arr3= np.array([ [[0,1,2,3],[4,5,6,7]] , [[8,9,10,11],[12,13,14,15]] ])   #3D array\n",
    "\n",
    "print(arr0.ndim, arr1.ndim, arr2.ndim, arr3.ndim)"
   ]
  },
  {
   "cell_type": "code",
   "execution_count": 56,
   "metadata": {
    "hidden": true
   },
   "outputs": [
    {
     "name": "stdout",
     "output_type": "stream",
     "text": [
      "[[[ 0  1  2  3]\n",
      "  [ 4  5  6  7]]\n",
      "\n",
      " [[ 8  9 10 11]\n",
      "  [12 13 14 15]]] \n",
      "\n",
      "[5 6] \n",
      "\n",
      "[[0 1 2 3]\n",
      " [4 5 6 7]]\n"
     ]
    }
   ],
   "source": [
    "#Accessing 3D arrays\n",
    "\n",
    "print(arr3, '\\n')\n",
    "print(arr3[0,1,1:3], '\\n')\n",
    "print(arr3[0,:,:])"
   ]
  },
  {
   "cell_type": "code",
   "execution_count": 98,
   "metadata": {
    "hidden": true
   },
   "outputs": [
    {
     "name": "stdout",
     "output_type": "stream",
     "text": [
      "(4,)\n"
     ]
    }
   ],
   "source": [
    "#Shape and reshape\n",
    "print(arr1.shape)"
   ]
  },
  {
   "cell_type": "code",
   "execution_count": 62,
   "metadata": {
    "hidden": true
   },
   "outputs": [
    {
     "name": "stdout",
     "output_type": "stream",
     "text": [
      "[[0 1 2 3]\n",
      " [4 5 6 7]]\n"
     ]
    }
   ],
   "source": [
    "arr = np.array([0,1,2,3,4,5,6,7])\n",
    "arr = arr.reshape(2,4)\n",
    "print(arr)"
   ]
  },
  {
   "cell_type": "code",
   "execution_count": 70,
   "metadata": {
    "hidden": true
   },
   "outputs": [
    {
     "name": "stdout",
     "output_type": "stream",
     "text": [
      "[0 1 2 3]\n",
      "[4 5 6 7]\n",
      "\n",
      "\n",
      "0\n",
      "1\n",
      "2\n",
      "3\n",
      "\n",
      "\n",
      "(0, 0) 0\n",
      "(0, 1) 1\n",
      "(0, 2) 2\n",
      "(0, 3) 3\n",
      "(1, 0) 4\n",
      "(1, 1) 5\n",
      "(1, 2) 6\n",
      "(1, 3) 7\n"
     ]
    }
   ],
   "source": [
    "#Iterating\n",
    "\n",
    "for i in arr:\n",
    "    print(i)\n",
    "\n",
    "print('\\n')\n",
    "\n",
    "for i in arr[0,:]:\n",
    "    print(i)\n",
    "    \n",
    "print('\\n')\n",
    "    \n",
    "for index, element in np.ndenumerate(arr):\n",
    "    print(index, element)"
   ]
  },
  {
   "cell_type": "code",
   "execution_count": 89,
   "metadata": {
    "hidden": true
   },
   "outputs": [
    {
     "name": "stdout",
     "output_type": "stream",
     "text": [
      "[[0 1 2 3]\n",
      " [4 5 6 7]\n",
      " [0 1 2 3]\n",
      " [4 5 6 7]]\n",
      "(4, 4) \n",
      "\n",
      "[[[0 1 2 3]\n",
      "  [4 5 6 7]]\n",
      "\n",
      " [[0 1 2 3]\n",
      "  [4 5 6 7]]]\n",
      "(2, 2, 4) \n",
      "\n",
      "[array([[0, 1, 2, 3]]), array([[4, 5, 6, 7]])]\n"
     ]
    }
   ],
   "source": [
    "#Joining and spliting arrays\n",
    "\n",
    "joinarray1 = np.concatenate((arr2, arr),axis=0)\n",
    "print(joinarray1)\n",
    "print(joinarray1.shape,'\\n')\n",
    "\n",
    "joinarray2 = np.stack((arr2,arr))\n",
    "print(joinarray2)\n",
    "print(joinarray2.shape,'\\n')\n",
    "\n",
    "splitarray = np.array_split(arr,2)\n",
    "print(splitarray)"
   ]
  },
  {
   "cell_type": "code",
   "execution_count": 93,
   "metadata": {
    "hidden": true
   },
   "outputs": [
    {
     "name": "stdout",
     "output_type": "stream",
     "text": [
      "(array([0]), array([1]), array([3]))\n"
     ]
    }
   ],
   "source": [
    "#Search\n",
    "print(np.where(arr3==7))"
   ]
  },
  {
   "cell_type": "code",
   "execution_count": 105,
   "metadata": {
    "hidden": true,
    "scrolled": true
   },
   "outputs": [
    {
     "name": "stdout",
     "output_type": "stream",
     "text": [
      "arr1 = [0 1 2 3]\n",
      "arr2 = [[0 1 2 3]\n",
      " [4 5 6 7]] \n",
      "\n",
      "ex #1: [0 2 4 6] \n",
      "\n",
      "ex #2: [0 1 4 9] \n",
      "\n",
      "ex #3: [[ 0  1  4  9]\n",
      " [ 0  5 12 21]] \n",
      "\n",
      "ex #4: [0 3 6 9]\n"
     ]
    }
   ],
   "source": [
    "#Basic operations\n",
    "print('arr1 =',arr1)\n",
    "print('arr2 =',arr2,'\\n')\n",
    "\n",
    "print('ex #1:',arr1*2,'\\n')\n",
    "print('ex #2:',arr1**2,'\\n')\n",
    "print('ex #3:',arr1*arr2,'\\n')\n",
    "print('ex #4:',arr1+arr1*2)"
   ]
  },
  {
   "cell_type": "markdown",
   "metadata": {
    "hidden": true
   },
   "source": [
    "*np.empty()* Returns a new array of given shape and type, without initializing entries. It requires the user to manually set all the values in the array, and should be used with caution.\n",
    "\n",
    "*np.zeros()* Generates a new array of given shape and type, filled with zeros."
   ]
  },
  {
   "cell_type": "code",
   "execution_count": 109,
   "metadata": {
    "hidden": true
   },
   "outputs": [
    {
     "name": "stdout",
     "output_type": "stream",
     "text": [
      "[[0.  0.2 0.4]\n",
      " [0.6 0.8 1. ]]\n",
      "[[0. 0. 0.]\n",
      " [0. 0. 0.]]\n"
     ]
    }
   ],
   "source": [
    "#empty and zeros arrays\n",
    "\n",
    "empty_array = np.empty((2,3))\n",
    "print(empty_array)\n",
    "\n",
    "zero_array = np.zeros((2,3))\n",
    "print(zero_array)"
   ]
  },
  {
   "cell_type": "code",
   "execution_count": 120,
   "metadata": {
    "hidden": true
   },
   "outputs": [
    {
     "name": "stdout",
     "output_type": "stream",
     "text": [
      "[1.  1.5 2.  2.5 3.  3.5 4.  4.5 5.  5.5 6. ]\n",
      "[  1.           1.66810054   2.7825594    4.64158883   7.74263683\n",
      "  12.91549665  21.5443469   35.93813664  59.94842503 100.        ]\n"
     ]
    }
   ],
   "source": [
    "#np.linspace(start,stop,num) and logspace(start,stop,num) \n",
    "\n",
    "\n",
    "lin_array= np.linspace(1,6,11)\n",
    "print(lin_array)\n",
    "\n",
    "log_array= np.logspace(0,2,10)\n",
    "print(log_array)"
   ]
  },
  {
   "cell_type": "markdown",
   "metadata": {
    "heading_collapsed": true,
    "hidden": true
   },
   "source": [
    "## SciPy"
   ]
  },
  {
   "cell_type": "markdown",
   "metadata": {
    "hidden": true
   },
   "source": [
    "SciPy is a scientific computation library based on NumPy developed to help data scientists. Like NumPy SciPy is preinstalled with anaconda."
   ]
  },
  {
   "cell_type": "code",
   "execution_count": 125,
   "metadata": {
    "hidden": true
   },
   "outputs": [
    {
     "name": "stdout",
     "output_type": "stream",
     "text": [
      "3.141592653589793\n"
     ]
    }
   ],
   "source": [
    "from scipy import constants\n",
    "\n",
    "print(constants.pi)"
   ]
  },
  {
   "cell_type": "code",
   "execution_count": 148,
   "metadata": {
    "hidden": true
   },
   "outputs": [
    {
     "name": "stdout",
     "output_type": "stream",
     "text": [
      "      fun: -2.25\n",
      " hess_inv: array([[1]])\n",
      "      jac: array([2.98023224e-08])\n",
      "  message: 'Optimization terminated successfully.'\n",
      "     nfev: 6\n",
      "      nit: 1\n",
      "     njev: 3\n",
      "   status: 0\n",
      "  success: True\n",
      "        x: array([-0.5]) \n",
      "\n",
      "    fjac: array([[-1.]])\n",
      "     fun: array([-6.39488462e-14])\n",
      " message: 'The solution converged.'\n",
      "    nfev: 10\n",
      "     qtf: array([1.67638063e-08])\n",
      "       r: array([3.00001144])\n",
      "  status: 1\n",
      " success: True\n",
      "       x: array([-2.])\n"
     ]
    },
    {
     "data": {
      "text/plain": [
       "[<matplotlib.lines.Line2D at 0x7f85515d7520>]"
      ]
     },
     "execution_count": 148,
     "metadata": {},
     "output_type": "execute_result"
    },
    {
     "data": {
      "image/png": "[encoded data removed]",
      "text/plain": [
       "<Figure size 432x288 with 1 Axes>"
      ]
     },
     "metadata": {
      "needs_background": "light"
     },
     "output_type": "display_data"
    }
   ],
   "source": [
    "from scipy import optimize\n",
    "\n",
    "def f(x):\n",
    "    return x**2+x-2\n",
    "\n",
    "f_min = optimize.minimize(f,0)   #optimize.minimze(function, initial guess)\n",
    "\n",
    "f_root = optimize.root(f,-1)\n",
    "\n",
    "print(f_min,'\\n')\n",
    "print(f_root)\n",
    "\n",
    "\n",
    "x=np.linspace(-3,3,50)\n",
    "plt.plot(x,f(x))"
   ]
  },
  {
   "cell_type": "code",
   "execution_count": 158,
   "metadata": {
    "hidden": true
   },
   "outputs": [
    {
     "name": "stdout",
     "output_type": "stream",
     "text": [
      "[-5.         -3.88888889 -2.77777778 -1.66666667 -0.55555556  0.55555556\n",
      "  1.66666667  2.77777778  3.88888889  5.        ] [18.          9.2345679   2.9382716  -0.88888889 -2.24691358 -1.13580247\n",
      "  2.44444444  8.49382716 17.01234568 28.        ]\n"
     ]
    },
    {
     "data": {
      "text/plain": [
       "[<matplotlib.lines.Line2D at 0x7f8551a2b640>]"
      ]
     },
     "execution_count": 158,
     "metadata": {},
     "output_type": "execute_result"
    },
    {
     "data": {
      "image/png": "[encoded data removed]",
      "text/plain": [
       "<Figure size 432x288 with 1 Axes>"
      ]
     },
     "metadata": {
      "needs_background": "light"
     },
     "output_type": "display_data"
    }
   ],
   "source": [
    "from scipy import interpolate\n",
    "\n",
    "x = np.linspace(-5,5,10)\n",
    "y = x**2+x-2\n",
    "\n",
    "interp_funct = interpolate.interp1d(x,y, kind='quadratic')\n",
    "\n",
    "print(x,y)\n",
    "\n",
    "\n",
    "xnew = np.linspace(-5,5,100)\n",
    "\n",
    "plt.plot(xnew,interp_funct(xnew))"
   ]
  },
  {
   "cell_type": "markdown",
   "metadata": {
    "heading_collapsed": true
   },
   "source": [
    "# File Handling"
   ]
  },
  {
   "cell_type": "markdown",
   "metadata": {
    "hidden": true
   },
   "source": [
    "From Python we can create, remove and modify files. With the command *open* we can access a file. If the file does not exist python creates it. There are different modes to access a file: read (\"r\"), append(\"a\"), write(\"w\"), create(\"x\"). We can also specify if the file is written in binary (\"b\") or if it is a text file (\"t\") \n",
    "\n",
    "Then, with *close* the file is closed and saved."
   ]
  },
  {
   "cell_type": "code",
   "execution_count": 161,
   "metadata": {
    "hidden": true
   },
   "outputs": [],
   "source": [
    "f = open(\"testfile.txt\", \"w\")\n",
    "f.write(\"Hello everyone! My name is Andreu.\")\n",
    "f.close()"
   ]
  },
  {
   "cell_type": "code",
   "execution_count": 167,
   "metadata": {
    "hidden": true,
    "scrolled": true
   },
   "outputs": [
    {
     "name": "stdout",
     "output_type": "stream",
     "text": [
      "I am from Valencia.\n"
     ]
    }
   ],
   "source": [
    "f = open(\"testfile.txt\", \"r\")\n",
    "print(f.read())"
   ]
  },
  {
   "cell_type": "code",
   "execution_count": 166,
   "metadata": {
    "hidden": true
   },
   "outputs": [
    {
     "data": {
      "text/plain": [
       "19"
      ]
     },
     "execution_count": 166,
     "metadata": {},
     "output_type": "execute_result"
    }
   ],
   "source": [
    "f = open(\"testfile.txt\", \"w\")\n",
    "f.write(\"I am from Valencia.\")"
   ]
  },
  {
   "cell_type": "markdown",
   "metadata": {
    "heading_collapsed": true
   },
   "source": [
    "# Try and Except"
   ]
  },
  {
   "cell_type": "markdown",
   "metadata": {
    "hidden": true
   },
   "source": [
    "There are ways of handling an error when it occurs. *try* is used to run a block of code. In the *except* block we will write instructions for handling an error. *finally* let us execute a code regardless the results of *try* and *except*."
   ]
  },
  {
   "cell_type": "code",
   "execution_count": 174,
   "metadata": {
    "hidden": true
   },
   "outputs": [
    {
     "ename": "TypeError",
     "evalue": "'<' not supported between instances of 'str' and 'int'",
     "output_type": "error",
     "traceback": [
      "\u001b[0;31m---------------------------------------------------------------------------\u001b[0m",
      "\u001b[0;31mTypeError\u001b[0m                                 Traceback (most recent call last)",
      "\u001b[0;32m<ipython-input-174-60ff7467395b>\u001b[0m in \u001b[0;36m<module>\u001b[0;34m\u001b[0m\n\u001b[1;32m      2\u001b[0m \u001b[0;34m\u001b[0m\u001b[0m\n\u001b[1;32m      3\u001b[0m \u001b[0;34m\u001b[0m\u001b[0m\n\u001b[0;32m----> 4\u001b[0;31m \u001b[0;32mif\u001b[0m \u001b[0mx\u001b[0m\u001b[0;34m<\u001b[0m\u001b[0;36m0\u001b[0m\u001b[0;34m:\u001b[0m\u001b[0;34m\u001b[0m\u001b[0;34m\u001b[0m\u001b[0m\n\u001b[0m\u001b[1;32m      5\u001b[0m     \u001b[0mprint\u001b[0m\u001b[0;34m(\u001b[0m\u001b[0;34m'x is negative'\u001b[0m\u001b[0;34m)\u001b[0m\u001b[0;34m\u001b[0m\u001b[0;34m\u001b[0m\u001b[0m\n",
      "\u001b[0;31mTypeError\u001b[0m: '<' not supported between instances of 'str' and 'int'"
     ]
    }
   ],
   "source": [
    "x = 'Hello'\n",
    "\n",
    "\n",
    "if x<0:\n",
    "    print('x is negative')"
   ]
  },
  {
   "cell_type": "code",
   "execution_count": 176,
   "metadata": {
    "hidden": true
   },
   "outputs": [
    {
     "name": "stdout",
     "output_type": "stream",
     "text": [
      "x is not a number\n",
      "Thank's for using Python\n"
     ]
    }
   ],
   "source": [
    "x = 'a'\n",
    "\n",
    "try:\n",
    "    if x<0:\n",
    "        print('x is negative')\n",
    "        \n",
    "except:\n",
    "    if type(x) !=  float:\n",
    "        print('x is not a number')\n",
    "    \n",
    "finally:\n",
    "    print('Thank\\'s for using Python')"
   ]
  },
  {
   "cell_type": "markdown",
   "metadata": {
    "heading_collapsed": true
   },
   "source": [
    "# Input"
   ]
  },
  {
   "cell_type": "markdown",
   "metadata": {
    "hidden": true
   },
   "source": [
    "We can ask the user for input."
   ]
  },
  {
   "cell_type": "code",
   "execution_count": 179,
   "metadata": {
    "hidden": true
   },
   "outputs": [
    {
     "name": "stdout",
     "output_type": "stream",
     "text": [
      "Introduce a number:1\n",
      "Introduce another number:2\n",
      "1.0 + 2.0 = 3.0\n"
     ]
    }
   ],
   "source": [
    "x = float(input(\"Introduce a number:\"))\n",
    "y = float(input(\"Introduce another number:\"))\n",
    "\n",
    "z=x+y\n",
    "\n",
    "print(x,'+',y,'=',z)"
   ]
  }
 ],
 "metadata": {
  "kernelspec": {
   "display_name": "Python 3",
   "language": "python",
   "name": "python3"
  },
  "language_info": {
   "codemirror_mode": {
    "name": "ipython",
    "version": 3
   },
   "file_extension": ".py",
   "mimetype": "text/x-python",
   "name": "python",
   "nbconvert_exporter": "python",
   "pygments_lexer": "ipython3",
   "version": "3.8.5"
  }
 },
 "nbformat": 4,
 "nbformat_minor": 4
}
