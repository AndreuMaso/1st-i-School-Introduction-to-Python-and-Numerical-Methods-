{
 "cells": [
  {
   "cell_type": "markdown",
   "metadata": {
    "heading_collapsed": true
   },
   "source": [
    "# Introduction to Python and Numerical Methods (Part 2)\n",
    "## Solving Tolman-Oppenheimer-Volkoff equations"
   ]
  },
  {
   "cell_type": "markdown",
   "metadata": {
    "hidden": true
   },
   "source": [
    "Written by Andreu Masó. University of Valencia. May 6th, 2021. 1st i-School and Conference on Metric-Affine Gravity"
   ]
  },
  {
   "cell_type": "markdown",
   "metadata": {
    "heading_collapsed": true
   },
   "source": [
    "# Euler method for differential equations"
   ]
  },
  {
   "cell_type": "code",
   "execution_count": 2,
   "metadata": {
    "hidden": true
   },
   "outputs": [],
   "source": [
    "#Import modules\n",
    "\n",
    "from matplotlib import pyplot as plt\n",
    "import numpy as np\n",
    "from scipy import constants\n"
   ]
  },
  {
   "cell_type": "code",
   "execution_count": 26,
   "metadata": {
    "hidden": true
   },
   "outputs": [],
   "source": [
    "#Euler method differential equation solver\n",
    "\n",
    "\n",
    "def EulerStep(x, y, h, dydx):\n",
    "    next_x= x + h\n",
    "    next_y= y + h * dydx(x,y)\n",
    "\n",
    "    return next_x,next_y\n",
    "\n",
    "def Euler(x0, xf, y0, h, dydx ):\n",
    "    \n",
    "    n= int( (xf-x0)/h ) #number of steps\n",
    "    \n",
    "    x = np.zeros(n)   #arrays of length n filled with zeros\n",
    "    y = np.zeros(n)\n",
    "    \n",
    "    x[0] = x0\n",
    "    y[0] = y0\n",
    "    \n",
    "    for i in range(0,n-1):\n",
    "        \n",
    "        x[i+1],y[i+1] = EulerStep(x[i], y[i], h, dydx)\n",
    "        #Last element in the for loop is n-1 because the assignation\n",
    "        #of values goes to i+1=n which is the last index of the array\n",
    "\n",
    "    return x,y"
   ]
  },
  {
   "cell_type": "code",
   "execution_count": 27,
   "metadata": {
    "hidden": true
   },
   "outputs": [
    {
     "data": {
      "image/png": "[encoded data removed]",
      "text/plain": [
       "<Figure size 432x288 with 1 Axes>"
      ]
     },
     "metadata": {
      "needs_background": "light"
     },
     "output_type": "display_data"
    }
   ],
   "source": [
    "#Differential equation\n",
    "\n",
    "def derivs(x,y): \n",
    "    f= 2*x\n",
    "    return f\n",
    "\n",
    "initial_x = 0\n",
    "final_x = 10\n",
    "initial_y = 0\n",
    "step = 1\n",
    "\n",
    "x, y = Euler(initial_x, final_x, initial_y, step, derivs)\n",
    "\n",
    "plt.plot(x,y)\n",
    "plt.plot(x,x**2)\n",
    "plt.show()"
   ]
  },
  {
   "cell_type": "markdown",
   "metadata": {
    "heading_collapsed": true
   },
   "source": [
    "# General differential equation solver"
   ]
  },
  {
   "cell_type": "code",
   "execution_count": 36,
   "metadata": {
    "hidden": true
   },
   "outputs": [],
   "source": [
    "#General differential equation solver. Specify method with:\n",
    "#'Euler' for Euler method\n",
    "#'RK2E' for modified Euler method\n",
    "#'RK2H' for Heun method\n",
    "#'RK4' for 4th order Runge-Kutta method\n",
    "\n",
    "def EulerStep(x, y, h, dydx):\n",
    "    next_x= x + h\n",
    "    next_y= y + h * dydx(x,y)\n",
    "\n",
    "    return next_x,next_y\n",
    "\n",
    "\n",
    "\n",
    "def RK2Estep(x ,y, h, dydx):\n",
    "    next_x = x + h\n",
    "    \n",
    "    k1 = dydx(x, y)\n",
    "    k2 = dydx(x + 0.5 * h, y + 0.5* h * k1)\n",
    "    \n",
    "    next_y = y + h * k2\n",
    "    \n",
    "    return next_x, next_y\n",
    "\n",
    "\n",
    "\n",
    "def RK2Hstep(x ,y, h, dydx):\n",
    "    next_x = x + h\n",
    "    \n",
    "    k1 = dydx(x, y)\n",
    "    k2 = dydx(x + h, y + h * k1)\n",
    "    \n",
    "    next_y = y + 0.5 * h * (k2 + k1)\n",
    "    \n",
    "    return next_x, next_y\n",
    "\n",
    "\n",
    "\n",
    "\n",
    "def RK4Step(x ,y, h, dydx):\n",
    "    next_x = x + h\n",
    "    \n",
    "    k1 = dydx(x, y)\n",
    "    k2 = dydx(x + 0.5 * h, y + 0.5 * h * k1)\n",
    "    k3 = dydx(x + 0.5 * h, y + 0.5 * h * k2)\n",
    "    k4 = dydx(x +  h, y +  h * k3)\n",
    "    \n",
    "    next_y = y + (h/6) * (k1 + 2*k2 + 2*k3 + k4)\n",
    "    \n",
    "    return next_x, next_y\n",
    "\n",
    "\n",
    "\n",
    "\n",
    "\n",
    "def Solver(x0, xf, y0, h, dydx, method):\n",
    "    \n",
    "    n= int( (xf-x0)/h ) #number of steps\n",
    "    \n",
    "    x = np.zeros(n)   #arrays of length n filled with zeros\n",
    "    y = np.zeros(n)\n",
    "    \n",
    "    x[0] = x0\n",
    "    y[0] = y0\n",
    "    \n",
    "    for i in range(0,n-1):\n",
    "        \n",
    "        if method == 'Euler':\n",
    "            x[i+1],y[i+1] = EulerStep(x[i], y[i], h, dydx)\n",
    "            \n",
    "        elif method == 'RK2E':\n",
    "            x[i+1],y[i+1] = RK2EStep(x[i], y[i], h, dydx)\n",
    "            \n",
    "        elif method == 'RK2H':\n",
    "            x[i+1],y[i+1] = RK2HStep(x[i], y[i], h, dydx)\n",
    "            \n",
    "        elif method == 'RK4':\n",
    "            x[i+1],y[i+1] = RK4Step(x[i], y[i], h, dydx)\n",
    "        \n",
    "    return x,y"
   ]
  },
  {
   "cell_type": "code",
   "execution_count": 85,
   "metadata": {
    "hidden": true,
    "scrolled": false
   },
   "outputs": [
    {
     "data": {
      "image/png": "[encoded data removed]",
      "text/plain": [
       "<Figure size 432x288 with 1 Axes>"
      ]
     },
     "metadata": {
      "needs_background": "light"
     },
     "output_type": "display_data"
    }
   ],
   "source": [
    "#Differential equation solution\n",
    "\n",
    "def diff(x,y): \n",
    "    f= 2*x\n",
    "    return f\n",
    "\n",
    "initial_x = 0\n",
    "final_x = 10\n",
    "initial_y = 0\n",
    "step = 1\n",
    "\n",
    "x1, y1 = Solver(initial_x, final_x, initial_y, step, diff, 'RK4')\n",
    "x2, y2 = Solver(initial_x, final_x, initial_y, step, diff, 'Euler')\n",
    "\n",
    "x=np.arange(0, 10,0.5)\n",
    "\n",
    "plt.plot(x1,y1)\n",
    "plt.plot(x2,y2)\n",
    "plt.plot(x,x**2)\n",
    "plt.show()\n"
   ]
  },
  {
   "cell_type": "markdown",
   "metadata": {
    "heading_collapsed": true
   },
   "source": [
    "# General system of  differential equations solver"
   ]
  },
  {
   "cell_type": "code",
   "execution_count": 56,
   "metadata": {
    "hidden": true
   },
   "outputs": [],
   "source": [
    "#General system of  differential equations solver. Specify method with:\n",
    "#'Euler' for Euler method\n",
    "#'RK2E' for modified Euler method\n",
    "#'RK2H' for Heun method\n",
    "#'RK4' for 4th order Runge-Kutta method\n",
    "\n",
    "#x0-> initial x\n",
    "#xf-> final x\n",
    "#y0-> initial y\n",
    "#h-> step\n",
    "#dydx-> derivative functions\n",
    "#method-> integration method\n",
    "#N number of equations\n",
    "\n",
    "def SystemSolver(x0, xf, y0, h, dydx, method, N):  #x0,xf,h,N ->float ; y0, dydx-> array; metod -> string\n",
    "    \n",
    "    n= int( (xf-x0)/h ) #number of steps\n",
    "    \n",
    "    x = np.zeros(n)   #arrays of length n filled with zeros\n",
    "    y = np.zeros((N,n))\n",
    "    \n",
    "    x[0] = x0\n",
    "    y[:,0] = y0\n",
    "    \n",
    "    for i in range(0,n-1):\n",
    "        \n",
    "        if method == 'Euler':\n",
    "            x[i+1],y[:,i+1] = EulerStep(x[i], y[:,i], h, dydx)\n",
    "            \n",
    "        elif method == 'RK2E':\n",
    "            x[i+1],y[:,i+1] = RK2EStep(x[i], y[:,i], h, dydx)\n",
    "            \n",
    "        elif method == 'RK2H':\n",
    "            x[i+1],y[:,i+1] = RK2HStep(x[i], y[:,i], h, dydx)\n",
    "            \n",
    "        elif method == 'RK4':\n",
    "            x[i+1],y[:,i+1] = RK4Step(x[i], y[:,i], h, dydx)\n",
    "        \n",
    "    return x,y\n",
    "\n"
   ]
  },
  {
   "cell_type": "code",
   "execution_count": 79,
   "metadata": {
    "hidden": true,
    "scrolled": true
   },
   "outputs": [
    {
     "name": "stderr",
     "output_type": "stream",
     "text": [
      "<ipython-input-79-1e889027e35e>:8: RuntimeWarning: invalid value encountered in double_scalars\n",
      "  rho = (y[0]/K)**(1/Gamma)\n"
     ]
    },
    {
     "data": {
      "image/png": "[encoded data removed]",
      "text/plain": [
       "<Figure size 432x288 with 1 Axes>"
      ]
     },
     "metadata": {
      "needs_background": "light"
     },
     "output_type": "display_data"
    }
   ],
   "source": [
    "#Solving TOV equations\n",
    "\n",
    "#y[0]-> pressure\n",
    "#y[1]-> mass\n",
    "#y[2]-> phi factor\n",
    "\n",
    "def derivs(x,y): \n",
    "    rho = (y[0]/K)**(1/Gamma)\n",
    "    eps = y[0]/((Gamma - 1)*rho)\n",
    "    mu = rho * (1+eps)\n",
    "\n",
    "    \n",
    " \n",
    "    P_prime  = - G*(mu + y[0]/c**2)* (y[1]+4 * np.pi * x**3 * y[0]/c**2) / (x*(x-2*G*y[1]/c**2))\n",
    "    m_prime  = 4*np.pi* x**2 * mu\n",
    "    phi_prime= (y[1]+4 * np.pi * x**3 * y[0]/c**2) / (x*(x-2*G*y[1]/c**2))\n",
    "    \n",
    "    dydx = np.array((P_prime,m_prime, phi_prime))\n",
    "    \n",
    "    return dydx\n",
    "\n",
    "\n",
    "\n",
    "#NS Parameters\n",
    "K=100\n",
    "Gamma=2\n",
    "rho_c=1.28*10**(-3)\n",
    "P_c= K* rho_c**Gamma\n",
    "\n",
    "#Integration parameters\n",
    "initial_x = 0.0001    #TOV equations are singular at x=0\n",
    "final_x = 20.0001\n",
    "initial_y = np.array((P_c, 0, 0))\n",
    "step = 0.1\n",
    "N=3    #number of equations\n",
    "G=1    #Newton's constant\n",
    "c=1    #speed of light\n",
    "\n",
    "\n",
    "#Solution\n",
    "x, y = SystemSolver(initial_x, final_x, initial_y, step, derivs, 'RK4',N)\n",
    "\n",
    "\n",
    "#Plot\n",
    "plt.scatter(x*1.477,y[0,:])  #multiplied by 1.477 to have the radial coordinate in km\n",
    "plt.show()"
   ]
  },
  {
   "cell_type": "markdown",
   "metadata": {
    "heading_collapsed": true
   },
   "source": [
    "# Convergence Test"
   ]
  },
  {
   "cell_type": "code",
   "execution_count": 83,
   "metadata": {
    "hidden": true,
    "scrolled": false
   },
   "outputs": [
    {
     "name": "stderr",
     "output_type": "stream",
     "text": [
      "<ipython-input-79-1e889027e35e>:8: RuntimeWarning: invalid value encountered in double_scalars\n",
      "  rho = (y[0]/K)**(1/Gamma)\n",
      "<ipython-input-83-dbbb3d2fd036>:32: RuntimeWarning: invalid value encountered in true_divide\n",
      "  conv[:,i]=(y_long[:,i]-y_half[:,i*2])/(y_half[:,i*2]-y_fourth[:,i*4])\n"
     ]
    },
    {
     "data": {
      "image/png": "[encoded data removed]",
      "text/plain": [
       "<Figure size 432x288 with 1 Axes>"
      ]
     },
     "metadata": {
      "needs_background": "light"
     },
     "output_type": "display_data"
    }
   ],
   "source": [
    "#Convergence test\n",
    "\n",
    "#NS Parameters\n",
    "K=100\n",
    "Gamma=2\n",
    "rho_c=1.28*10**(-3)\n",
    "P_c= K* rho_c**Gamma\n",
    "\n",
    "#Integration parameters\n",
    "initial_x = 0.0001    #TOV equations are singular at x=0\n",
    "final_x = 20.0001\n",
    "initial_y = np.array((P_c, 0, 0))\n",
    "step = 0.1\n",
    "N=3    #number of equations\n",
    "G=1    #Newton's constant\n",
    "c=1    #speed of light\n",
    "method = 'RK4'\n",
    "\n",
    "\n",
    "x_long,y_long = SystemSolver(initial_x, final_x, initial_y, step, derivs, method,N)\n",
    "\n",
    "step = step/2    #Can be written as: step /= 2\n",
    "x_half,y_half = SystemSolver(initial_x, final_x, initial_y, step, derivs, method,N)\n",
    "\n",
    "step = step/2    #Can be written as: step /= 2\n",
    "x_fourth,y_fourth = SystemSolver(initial_x, final_x, initial_y, step, derivs, method,N)\n",
    "\n",
    "\n",
    "conv=np.zeros((3, len(y_long[0,:]) ))\n",
    "\n",
    "for i in range(0,len(y_long[0,:])):\n",
    "    conv[:,i]=(y_long[:,i]-y_half[:,i*2])/(y_half[:,i*2]-y_fourth[:,i*4])\n",
    "\n",
    "\n",
    "plt.plot(x_long*1.477,conv[0,:])\n",
    "plt.plot(x_long*1.477,conv[1,:])\n",
    "plt.plot(x_long*1.477,conv[2,:])\n",
    "plt.show()"
   ]
  },
  {
   "cell_type": "markdown",
   "metadata": {
    "heading_collapsed": true
   },
   "source": [
    "# Solving Differential Equations with SciPy"
   ]
  },
  {
   "cell_type": "code",
   "execution_count": 89,
   "metadata": {
    "hidden": true
   },
   "outputs": [
    {
     "name": "stderr",
     "output_type": "stream",
     "text": [
      "<ipython-input-79-1e889027e35e>:8: RuntimeWarning: invalid value encountered in double_scalars\n",
      "  rho = (y[0]/K)**(1/Gamma)\n"
     ]
    },
    {
     "data": {
      "text/plain": [
       "[<matplotlib.lines.Line2D at 0x7f8c90336460>]"
      ]
     },
     "execution_count": 89,
     "metadata": {},
     "output_type": "execute_result"
    },
    {
     "data": {
      "image/png": "[encoded data removed]",
      "text/plain": [
       "<Figure size 432x288 with 1 Axes>"
      ]
     },
     "metadata": {
      "needs_background": "light"
     },
     "output_type": "display_data"
    }
   ],
   "source": [
    "from scipy.integrate import solve_ivp\n",
    "\n",
    "#NS Parameters\n",
    "K=100\n",
    "Gamma=2\n",
    "rho_c=1.28*10**(-3)\n",
    "P_c= K* rho_c**Gamma\n",
    "\n",
    "#Integration parameters\n",
    "initial_x = 0.0001    #TOV equations are singular at x=0\n",
    "final_x = 20.0001\n",
    "output_x = np.arange(initial_x, final_x, 0.1)\n",
    "initial_y = np.array((P_c, 0, 0))\n",
    "step = 0.1\n",
    "N=3    #number of equations\n",
    "G=1    #Newton's constant\n",
    "c=1    #speed of light\n",
    "method = 'RK45'\n",
    "\n",
    "\n",
    "sol = solve_ivp(derivs, [initial_x, final_x], initial_y, t_eval=output_x, method=method)\n",
    "\n",
    "\n",
    "plt.plot(sol.t*1.477, sol.y[0])\n",
    "plt.plot(sol.t*1.477, (sol.y[0]/K)**(1/Gamma))"
   ]
  },
  {
   "cell_type": "markdown",
   "metadata": {
    "heading_collapsed": true
   },
   "source": [
    "# Adaptative stepsize 4th order Runga-Kutta solver"
   ]
  },
  {
   "cell_type": "code",
   "execution_count": 109,
   "metadata": {
    "hidden": true
   },
   "outputs": [],
   "source": [
    "#Adaptive stepsize Runge-Kutta\n",
    "\n",
    "def adRK(x0, xf, y0, h,derivs,N):\n",
    "    \n",
    "    eps=0.0001\n",
    "    safe=0.9\n",
    "    errcon=0.0006\n",
    "    \n",
    "    n=int((xf-x0)/h)\n",
    "    x=np.zeros(1)\n",
    "    y=np.zeros((N,1))\n",
    "    x[0]=x0\n",
    "    y[:,0]=y0\n",
    "    \n",
    "    i=0\n",
    "    while x[i]<xf:    \n",
    "\n",
    "        x1,y1=RK4step(x[i],y[:,i],h,derivs)\n",
    "        \n",
    "        x2,y2=RK4step(x[i],y[:,i],0.5*h,derivs)\n",
    "        x2,y2=RK4step(x[i]+0.5*h,y2,0.5*h,derivs)\n",
    "        \n",
    "        x1=np.array([x1])\n",
    "        x=np.concatenate((x,x1), axis=0)\n",
    "\n",
    "\n",
    "        ycal=y[:,i]+h*derivs(x[i],y[:,i])\n",
    "        err=(y2-y1)/(ycal*eps)\n",
    "        err=max(err[0],err[1],err[2])\n",
    "        \n",
    "        if err>1:\n",
    "            h=safe*h*err**-0.25\n",
    "        else:\n",
    "            if err>errcon:\n",
    "                h=safe*h*err**-0.2\n",
    "            else:\n",
    "                h=4*h\n",
    "        \n",
    "        y_aux=np.array([[y1[0]],[y1[1]],[y1[2]]])\n",
    "        y=np.concatenate((y,y_aux),axis=1)\n",
    "        \n",
    "        i+=1\n",
    "        \n",
    "        \n",
    "    return x,y"
   ]
  },
  {
   "cell_type": "code",
   "execution_count": 110,
   "metadata": {
    "hidden": true
   },
   "outputs": [
    {
     "name": "stderr",
     "output_type": "stream",
     "text": [
      "<ipython-input-79-1e889027e35e>:8: RuntimeWarning: invalid value encountered in double_scalars\n",
      "  rho = (y[0]/K)**(1/Gamma)\n"
     ]
    },
    {
     "data": {
      "image/png": "[encoded data removed]",
      "text/plain": [
       "<Figure size 432x288 with 1 Axes>"
      ]
     },
     "metadata": {
      "needs_background": "light"
     },
     "output_type": "display_data"
    }
   ],
   "source": [
    "#NS Parameters\n",
    "K=100\n",
    "Gamma=2\n",
    "rho_c=1.28*10**(-3)\n",
    "P_c= K* rho_c**Gamma\n",
    "\n",
    "#Integration parameters\n",
    "initial_x = 0.0001    #TOV equations are singular at x=0\n",
    "final_x = 20.0001\n",
    "initial_y = np.array((P_c, 0, 0))\n",
    "step = 0.1\n",
    "N=3    #number of equations\n",
    "G=1    #Newton's constant\n",
    "c=1    #speed of light\n",
    "\n",
    "\n",
    "x,y=adRK(initial_x, final_x , initial_y , step ,derivs, N)\n",
    "\n",
    "plt.scatter(x*1.477,y[0,:]) \n",
    "plt.show()"
   ]
  },
  {
   "cell_type": "code",
   "execution_count": null,
   "metadata": {
    "hidden": true
   },
   "outputs": [],
   "source": []
  }
 ],
 "metadata": {
  "kernelspec": {
   "display_name": "Python 3",
   "language": "python",
   "name": "python3"
  },
  "language_info": {
   "codemirror_mode": {
    "name": "ipython",
    "version": 3
   },
   "file_extension": ".py",
   "mimetype": "text/x-python",
   "name": "python",
   "nbconvert_exporter": "python",
   "pygments_lexer": "ipython3",
   "version": "3.8.5"
  }
 },
 "nbformat": 4,
 "nbformat_minor": 4
}
